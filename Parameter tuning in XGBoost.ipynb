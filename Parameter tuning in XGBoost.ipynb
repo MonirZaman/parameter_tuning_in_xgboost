{
 "cells": [
  {
   "cell_type": "markdown",
   "metadata": {
    "collapsed": true
   },
   "source": [
    "## <center>eXtreme Gradient Boosting (XGBoost)</center>\n",
    "<center>By Monir Zaman (Md Moniruzzaman), mmoniruz At ucalgary Dot com</center>\n",
    "\n",
    "XGBoost [1] is a popular machine learning library that is being widely used to solve data science problems. It uses Gradient Boosting framework to implement a machine learning algorithm. It offers both classification and regression. Here, I apply XGBoost on a Social network dataset to infer the day of the week information. I also compare the performance of the XGBoost with Logistic Regression.\n",
    "\n",
    "#### XGBoost Installation\n",
    "Installing Xgboost on Windows is slightly complicated. I had success by following the first answer from user Vu Anh on the QA thread [3]. \n",
    "\n",
    "\n",
    "#### Dataset\n",
    "In recent social network applications, a user can disclose their location to other users by posting a status update. This feature is also known as check-in and the social networks that support this feature are known as geo-social networks (GSNs). We use a GSN dataset that is collected from Gowalla [2]. Dataset presented here is preprocessed. The preprocessed version is made available here [4]."
   ]
  },
  {
   "cell_type": "code",
   "execution_count": 1,
   "metadata": {
    "collapsed": false
   },
   "outputs": [
    {
     "name": "stdout",
     "output_type": "stream",
     "text": [
      "First few records\n",
      "   index             datetime  id        lat       long      loc  \\\n",
      "0      0  2010-05-22 02:49:04   0  30.248924 -97.749626   608105   \n",
      "1      1  2010-05-22 17:50:55   0  39.297443 -94.716053     8977   \n",
      "2      2  2010-05-22 19:13:12   0  38.985246 -94.605919    18574   \n",
      "3      3  2010-05-23 16:50:50   0  39.093533 -94.593174    17269   \n",
      "4      4  2010-05-23 17:51:57   0  39.093258 -94.593871  1161876   \n",
      "\n",
      "                  timeDelays        wd  daysSince  td_total_secs  \\\n",
      "0  0 days 15:01:51.000000000  Saturday          0          54111   \n",
      "1  0 days 01:22:17.000000000  Saturday          0           4937   \n",
      "2  0 days 21:37:38.000000000  Saturday          0          77858   \n",
      "3  0 days 01:01:07.000000000    Sunday          0           3667   \n",
      "4  0 days 04:48:48.000000000    Sunday          0          17328   \n",
      "\n",
      "     disFromMFLoc  disFromPrevLoc      ctime        ss        rf  \n",
      "0     2242.514992        0.000000  LateNight  0.024390  0.004444  \n",
      "1  1040582.790390  1042758.724740    Evening  0.086179  0.004444  \n",
      "2  1010139.096970    35968.041102    Evening  0.008130  0.004444  \n",
      "3  1021951.778330    12083.515877  Afternoon  0.021138  0.004444  \n",
      "4  1021904.749160       67.391569    Evening  0.003252  0.004444  \n"
     ]
    }
   ],
   "source": [
    "#Loading dataset\n",
    "import os\n",
    "import pandas as pd\n",
    "import numpy as np\n",
    "\n",
    "dr='C:\\\\Users\\\\Van\\\\Google Drive\\\\rWorkspace\\\\data\\\\gowallaBrightkite'\n",
    "runFromLab=True\n",
    "if runFromLab:\n",
    "    dr='C:\\\\Users\\\\mmoniruz\\\\Documents\\\\systemfiles_Data' #lab\n",
    "    \n",
    "dfFileIn=os.path.join(dr,'GowallaInCSV_3.csv')\n",
    "#end of global parameter settings\n",
    "\n",
    "\n",
    "df=pd.read_csv(dfFileIn)\n",
    "\n",
    "'''In data preprocessing, we subtract ith check-in date from (i+1)th check-in date. \n",
    "This process might introduce negative daysSince value for a few records across users. \n",
    "We remove those records'''\n",
    "\n",
    "df=df[df['daysSince']>=0]\n",
    "df.reset_index(inplace=True)\n",
    "print 'First few records\\n',df.head()"
   ]
  },
  {
   "cell_type": "markdown",
   "metadata": {},
   "source": [
    "#### Overview of the dataset"
   ]
  },
  {
   "cell_type": "code",
   "execution_count": 2,
   "metadata": {
    "collapsed": false
   },
   "outputs": [
    {
     "name": "stdout",
     "output_type": "stream",
     "text": [
      "xdf dimensions  (10000, 15)\n",
      "xdf summary\n",
      "              index            id           lat          long            loc  \\\n",
      "count  10000.000000  10000.000000  10000.000000  10000.000000    10000.00000   \n",
      "mean    5017.218400     21.762800     35.906369   -100.166665   386377.36600   \n",
      "std     2899.823203     15.487825      4.902153     19.436753   620940.77939   \n",
      "min        0.000000      0.000000    -34.119453   -159.498158     8904.00000   \n",
      "25%     2501.750000      4.000000     33.077400   -118.419792    34087.00000   \n",
      "50%     5017.500000     22.000000     35.133158    -97.744675   147717.00000   \n",
      "75%     7529.250000     35.000000     39.953448    -89.895501   502092.00000   \n",
      "max    10042.000000     53.000000     60.193511     18.480019  5778967.00000   \n",
      "\n",
      "          daysSince    td_total_secs     disFromMFLoc   disFromPrevLoc  \\\n",
      "count  10000.000000     10000.000000     10000.000000     10000.000000   \n",
      "mean       0.653100     73496.773800    442435.894900     58833.262988   \n",
      "std        6.232451    542305.537116   1052599.049385    421373.738378   \n",
      "min        0.000000         3.000000         0.000000         0.000000   \n",
      "25%        0.000000        35.000000      2545.132563       139.749568   \n",
      "50%        0.000000      3101.500000      7488.305908       809.457643   \n",
      "75%        0.000000     45384.750000    191585.360176      5050.880485   \n",
      "max      255.000000  22094663.000000  14087979.547100  12753890.738400   \n",
      "\n",
      "                 ss            rf  \n",
      "count  10000.000000  10000.000000  \n",
      "mean       0.036789      0.024007  \n",
      "std        0.092538      0.071249  \n",
      "min        0.000000      0.000476  \n",
      "25%        0.000000      0.000488  \n",
      "50%        0.004237      0.002841  \n",
      "75%        0.028543      0.012195  \n",
      "max        0.727273      0.500000  \n"
     ]
    }
   ],
   "source": [
    "xdf=df[:10000]      #taking subset of the dataframe for this experiment\n",
    "print 'xdf dimensions ',xdf.shape\n",
    "print 'xdf summary\\n',xdf.describe()"
   ]
  },
  {
   "cell_type": "markdown",
   "metadata": {},
   "source": [
    "#### Analysis question\n",
    "Given a check-in record, can we tell what day of the week it is? Goal is to infer day of the week using other fields as input.\n",
    "\n",
    "#### Features\n",
    "- Distance from home ($disFromMFLoc$): defines the distance of a check-in location from the most frequently visited location by the user. \n",
    "\n",
    "- Distance from the previous location ($disFromPrevLoc$): defines the distance between user's current location and the location of their immediate previous check-in.\n",
    "\n",
    "- Social score ($ss$): A location is assigned a social score from a user's perspective by measuring how many of the user's friends have visited the location normalized by the total number of the friends. \n",
    "\n",
    "- Relative frequency of a location ($rf$): defines the frequency with which user visits the location relative to all the locations.\n",
    "\n",
    "- Time interval ($daysSince$): denotes the time interval as described between two consecutive check-ins calculated in days.\n",
    "\n",
    "- td_total_secs: denotes the time interval as described between two consecutive check-ins calculated in seconds.\n",
    "\n",
    "- Day of week ($wd$): $wd$ denotes the day of week of the date when the check-in.\n",
    "\n",
    "- Time of day ($ctime$): denotes the semantic time when the user checked-in. We convert the exact time of day to semantic time such as Morning, Afternoon, Evening, etc.\n",
    "\n",
    "Other features that are not used in the inference:\n",
    "- id - user id\n",
    "- lat - latitude\n",
    "- long - longitude\n",
    "- loc - location id\n",
    "- datetime - date and time of the check-in \n",
    "- index - row index\n",
    "- timeDelays - difference in time delta object between two consecutive check-in dates."
   ]
  },
  {
   "cell_type": "markdown",
   "metadata": {},
   "source": [
    "#### Categorical feature\n",
    "Feature with text value such as day of the week and time of the day needs to be converted into numeric values. Some helper methods are defined here to factor categorical feature as well as to separate dataset into train and test set.\n",
    "Note that feature scaling is not necessary for XGBoost."
   ]
  },
  {
   "cell_type": "code",
   "execution_count": 17,
   "metadata": {
    "collapsed": true
   },
   "outputs": [],
   "source": [
    "from sklearn.cross_validation import train_test_split\n",
    "from sklearn import linear_model\n",
    "\n",
    "#Unique values for categorical features\n",
    "weekdays=['Friday','Saturday','Sunday', 'Monday', 'Tuesday', 'Wednesday', 'Thursday']\n",
    "ctime_label=[\"Morning\",\"Afternoon\",\"Evening\",\"LateNight\"]\n",
    "\n",
    "def factorFeatureFromLabels(adf, featureName, FactorLabel):\n",
    "    '''Factorize the categorical feature featureName\n",
    "    from a predefined factored labels; add a new column in place;\n",
    "        Args:\n",
    "            adf: contains data to factor\n",
    "            featureName: is the column name of adf to be factored\n",
    "            FactorLabel: is a list of strings containing distinct values of featureName. \n",
    "            Use index of the string as the new value.\n",
    "        Returns:\n",
    "            None\n",
    "    '''\n",
    "    #prepare a dictionary of value and their corresponding index\n",
    "    fac_indx=dict()\n",
    "    for i,afac in enumerate(FactorLabel):\n",
    "        fac_indx[afac]=i\n",
    "    \n",
    "    #adding a new column with the numeric value\n",
    "    suffix='_fac'\n",
    "    nar=adf[featureName].apply(lambda x:fac_indx[x])\n",
    "    adf[featureName+suffix]=nar\n",
    "    \n",
    "    #testing\n",
    "    aindx=adf.index[0]\n",
    "    assert fac_indx[adf.ix[aindx][featureName]]==adf.ix[aindx][featureName+suffix]\n",
    "    #end of testing\n",
    "\n",
    "def divide_train_test(mdf, out_feature,testSize=.2):\n",
    "    '''Dividing dataframe to train and test set\n",
    "        Args:\n",
    "            mdf: dataframe\n",
    "            out_feature: column that is also the outcome variable\n",
    "            testSize: ratio of the test size in the scale [0,1]\n",
    "        Returns:\n",
    "            Trainset, label for the trainset, Testset and label for the test set\n",
    "    '''\n",
    "    temp=mdf.copy(deep=True)      #for testing purpose\n",
    "    \n",
    "    #separate the outcome variable\n",
    "    y = mdf.pop(out_feature)\n",
    "    X = mdf\n",
    "    X_train,X_test,y_train,y_test = train_test_split(X.index,y,test_size=testSize)\n",
    "\n",
    "    train=mdf.iloc[X_train]\n",
    "    test=mdf.iloc[X_test]\n",
    "        \n",
    "    assert list(temp.ix[X_train[:5]][out_feature])==list(y_train.ix[X_train[:5]])\n",
    "        \n",
    "    return train, y_train, test, y_test    "
   ]
  },
  {
   "cell_type": "code",
   "execution_count": 4,
   "metadata": {
    "collapsed": false
   },
   "outputs": [
    {
     "name": "stderr",
     "output_type": "stream",
     "text": [
      "C:\\Users\\mmoniruz\\AppData\\Local\\Continuum\\Anaconda2\\lib\\site-packages\\ipykernel\\__main__.py:26: SettingWithCopyWarning: \n",
      "A value is trying to be set on a copy of a slice from a DataFrame.\n",
      "Try using .loc[row_indexer,col_indexer] = value instead\n",
      "\n",
      "See the caveats in the documentation: http://pandas.pydata.org/pandas-docs/stable/indexing.html#indexing-view-versus-copy\n",
      "C:\\Users\\mmoniruz\\AppData\\Local\\Continuum\\Anaconda2\\lib\\site-packages\\ipykernel\\__main__.py:10: SettingWithCopyWarning: \n",
      "A value is trying to be set on a copy of a slice from a DataFrame\n",
      "\n",
      "See the caveats in the documentation: http://pandas.pydata.org/pandas-docs/stable/indexing.html#indexing-view-versus-copy\n",
      "C:\\Users\\mmoniruz\\AppData\\Local\\Continuum\\Anaconda2\\lib\\site-packages\\ipykernel\\__main__.py:11: SettingWithCopyWarning: \n",
      "A value is trying to be set on a copy of a slice from a DataFrame\n",
      "\n",
      "See the caveats in the documentation: http://pandas.pydata.org/pandas-docs/stable/indexing.html#indexing-view-versus-copy\n"
     ]
    }
   ],
   "source": [
    "#Factor categorical feature\n",
    "factorFeatureFromLabels(xdf, 'wd',weekdays)   #factored feature will be addes wd_fac\n",
    "factorFeatureFromLabels(xdf, 'ctime', ctime_label)   #factored feature will be addes ctime_fac\n",
    "\n",
    "#Divide dataframe to train and test dataset\n",
    "train, y_train, test, y_test=divide_train_test(xdf,'wd_fac')   #pass dataset, output feature name\n",
    "\n",
    "#drop the original wd and ctime column since we have added wd_fac, ctime_fac\n",
    "#also, drop unnecessary columns such as datetime, index, user id, latitude, longitude, etc.\n",
    "dropCol=[u'datetime','index', u'id', u'lat', u'long', u'loc', u'timeDelays','wd','ctime']\n",
    "train.drop(dropCol,axis=1,inplace=True)\n",
    "test.drop(dropCol,axis=1,inplace=True)"
   ]
  },
  {
   "cell_type": "markdown",
   "metadata": {
    "collapsed": true
   },
   "source": [
    "#### Grid search to find optimal parameter value\n",
    "I will apply Grid search to find optimized value of the following parameters:\n",
    "<ul>\n",
    "<li>Number of boosting iterations (num_boost_round)</li>\n",
    "<li>Learning rate (eta)</li>\n",
    "<li>Ratio of dataset that are chosen as random samples for each tree(Subsample)</li>\n",
    "</ul>"
   ]
  },
  {
   "cell_type": "code",
   "execution_count": 6,
   "metadata": {
    "collapsed": false
   },
   "outputs": [
    {
     "name": "stderr",
     "output_type": "stream",
     "text": [
      "Will train until cv error hasn't decreased in 100 rounds.\n",
      "Stopping. Best iteration: 429\n"
     ]
    }
   ],
   "source": [
    "import xgboost as xgb\n",
    "from sklearn.grid_search import GridSearchCV\n",
    "\n",
    "xgdmat = xgb.DMatrix(train, y_train)\n",
    "\n",
    "our_params = {'eta': 0.1, 'seed':0, 'subsample': 0.8, 'colsample_bytree': 0.8, \n",
    "             'objective': \"multi:softmax\", 'num_class':7, 'max_depth':3, 'min_child_weight':1,\n",
    "             \"eval_metric\" : \"mlogloss\"\n",
    "             } \n",
    "\n",
    "#Perform grid search for optimized settings\n",
    "cv_xgb = xgb.cv(params = our_params, dtrain = xgdmat, num_boost_round = 3100, \n",
    "                nfold = 5, early_stopping_rounds = 100) "
   ]
  },
  {
   "cell_type": "code",
   "execution_count": 7,
   "metadata": {
    "collapsed": false
   },
   "outputs": [
    {
     "name": "stdout",
     "output_type": "stream",
     "text": [
      "Accuracy score (num_boost_round=429) 0.3785\n"
     ]
    },
    {
     "data": {
      "image/png": "[encoded data removed]",
      "text/plain": [
       "<matplotlib.figure.Figure at 0x6427b588>"
      ]
     },
     "metadata": {},
     "output_type": "display_data"
    }
   ],
   "source": [
    "#Now setting the num_boost_round to value found from the above search\n",
    "bestRound=429\n",
    "final_gb = xgb.train(our_params, xgdmat, num_boost_round = bestRound)\n",
    "\n",
    "#printing out the importance of features based on training set\n",
    "%matplotlib inline\n",
    "import seaborn as sns\n",
    "sns.set(font_scale = 1.5)\n",
    "xgb.plot_importance(final_gb)\n",
    "\n",
    "#testing\n",
    "testdmat = xgb.DMatrix(test)\n",
    "\n",
    "from sklearn.metrics import accuracy_score\n",
    "y_pred = final_gb.predict(testdmat) # Predict using our testdmat\n",
    "\n",
    "print \"Accuracy score (num_boost_round=429)\",accuracy_score(y_pred,y_test)"
   ]
  },
  {
   "cell_type": "markdown",
   "metadata": {},
   "source": [
    "Grid search will be used to find optimal value for learning rate and subsample. "
   ]
  },
  {
   "cell_type": "code",
   "execution_count": 8,
   "metadata": {
    "collapsed": false
   },
   "outputs": [
    {
     "data": {
      "text/plain": [
       "[mean: 0.39625, std: 0.00898, params: {'subsample': 0.7, 'learning_rate': 0.1},\n",
       " mean: 0.39625, std: 0.00819, params: {'subsample': 0.8, 'learning_rate': 0.1},\n",
       " mean: 0.39475, std: 0.00760, params: {'subsample': 0.9, 'learning_rate': 0.1},\n",
       " mean: 0.38338, std: 0.00882, params: {'subsample': 0.7, 'learning_rate': 0.01},\n",
       " mean: 0.38300, std: 0.00887, params: {'subsample': 0.8, 'learning_rate': 0.01},\n",
       " mean: 0.38375, std: 0.01118, params: {'subsample': 0.9, 'learning_rate': 0.01}]"
      ]
     },
     "execution_count": 8,
     "metadata": {},
     "output_type": "execute_result"
    }
   ],
   "source": [
    "#next perform grid search on the learning rate and subsample\n",
    "def grid_search(cv_params, ind_params,train_rec, train_label):\n",
    "    fitted_gs = GridSearchCV(xgb.XGBClassifier(**ind_params), \n",
    "                            cv_params, \n",
    "                             scoring = 'accuracy', cv = 5, n_jobs = -1) \n",
    "    fitted_gs.fit(train_rec, train_label)\n",
    "    return fitted_gs\n",
    "\n",
    "cv_params = {'learning_rate': [0.1, 0.01], 'subsample': [0.7,0.8,0.9]}\n",
    "ind_params = {'n_estimators': 1000, 'seed':0, 'colsample_bytree': 0.8, \n",
    "             'objective': \"multi:softmax\",'max_depth':5,'min_child_weight':1}\n",
    "\n",
    "gs=grid_search(cv_params,ind_params,train,y_train)\n",
    "gs.grid_scores_"
   ]
  },
  {
   "cell_type": "code",
   "execution_count": 10,
   "metadata": {
    "collapsed": false
   },
   "outputs": [
    {
     "name": "stdout",
     "output_type": "stream",
     "text": [
      "Accuracy score  0.3995\n",
      "Training accuracy score  0.88475\n"
     ]
    }
   ],
   "source": [
    "#finalize parameters\n",
    "ind_params = {'n_estimators': 1000, 'seed':0, 'colsample_bytree': 0.8, \n",
    "             'objective': \"multi:softmax\",'num_class':7, \"eval_metric\" : \"mlogloss\", \n",
    "              'max_depth':5,'min_child_weight':1, 'learning_rate':.1, 'subsample':.8 }\n",
    "#change objective to 'multi:softprob' for return probabilities\n",
    "\n",
    "#fitting a tree\n",
    "gbt = xgb.train(ind_params, xgdmat, num_boost_round = bestRound)\n",
    "\n",
    "\n",
    "#testing \n",
    "y_pred = gbt.predict(testdmat) # Predict using our testdmat\n",
    "#print testdmat.num_row(), len(y_test)\n",
    "\n",
    "print \"Accuracy score \",accuracy_score(y_pred,y_test)\n",
    "\n",
    "#calculate training error\n",
    "y_pred = gbt.predict(xgdmat) # Predict using our testdmat\n",
    "#print testdmat.num_row(), len(y_test)\n",
    "\n",
    "print \"Training accuracy score \",accuracy_score(y_pred,y_train)"
   ]
  },
  {
   "cell_type": "markdown",
   "metadata": {},
   "source": [
    "We can see that second grid search improves accuracy 37.8% from to 39.9%."
   ]
  },
  {
   "cell_type": "markdown",
   "metadata": {},
   "source": [
    "#### Compare XGBoost's performance with Logistic regression"
   ]
  },
  {
   "cell_type": "code",
   "execution_count": 19,
   "metadata": {
    "collapsed": false
   },
   "outputs": [
    {
     "name": "stdout",
     "output_type": "stream",
     "text": [
      "Logistic Regression:\n",
      "Accuracy score :0.207\n",
      "Training accuracy score :0.206125\n"
     ]
    }
   ],
   "source": [
    "from sklearn.metrics import accuracy_score\n",
    "pd.options.mode.chained_assignment = None\n",
    "\n",
    "def fit_and_predict(df1,df1_label,df2, df2_label):\n",
    "    '''Return accuracy calculated by Logistic regression\n",
    "        Args:\n",
    "            df1: trainset\n",
    "            df1_label: trainset label\n",
    "            df2: testset\n",
    "            df2_label: testset label\n",
    "        Returns:\n",
    "            \n",
    "    '''\n",
    "    lgr =linear_model.LogisticRegression(C=1e5)\n",
    "    lgr.fit(df1,df1_label)\n",
    "\n",
    "    lgr_pred=lgr.predict(df2)\n",
    "\n",
    "    return accuracy_score(lgr_pred, df2_label)\n",
    "\n",
    "def wrap_prediction(adf, output_feature, dropCol):\n",
    "    '''Accepts a dataframe, divide it into a train set, test set and \n",
    "        perform prediction on the output feature. Output feature name comes  \n",
    "        without suffix. Method by default factors wd, ctime and assumes that distinct \n",
    "        feature values: weekdays, ctime_label exists\n",
    "        Args:\n",
    "            adf: dataset as a dataframe\n",
    "            output_feature: column of the outcome variable/feature\n",
    "            drop_col: list of columns that are not used in the inference\n",
    "        Returns:\n",
    "            Accuracy of the logistic regression model on the test set as well as \n",
    "            on the train set.\n",
    "        \n",
    "    '''\n",
    "\n",
    "    adf=adf.copy(deep=True)\n",
    "    adf=adf[adf['daysSince']>=0]\n",
    "    adf.reset_index(inplace=True)\n",
    "    \n",
    "    #Factor categorical feature\n",
    "    factorFeatureFromLabels(adf, 'wd',weekdays)   #factored feature will be addes wd_fac\n",
    "    factorFeatureFromLabels(adf, 'ctime', ctime_label)   #factored feature will be addes ctime_fac\n",
    "\n",
    "    #divide to train and test dataset\n",
    "    train, y_train, test, y_test=divide_train_test(adf,output_feature)   #pass dataset, output feature name\n",
    "                                                                         #output feature name will have _fac suffix\n",
    "\n",
    "    #drop the original wd and ctime column along with other additional columns\n",
    "    #dropCol list will be taken as input\n",
    "    train.drop(dropCol,axis=1,inplace=True)\n",
    "    test.drop(dropCol,axis=1,inplace=True)\n",
    "\n",
    "    #fit a logistic regression model\n",
    "    from sklearn import linear_model\n",
    "    lgr =linear_model.LogisticRegression(C=1e5)\n",
    "    lgr.fit(train,y_train)\n",
    "\n",
    "    # perform inference\n",
    "    lgr_pred=lgr.predict(test)\n",
    "    \n",
    "    return dict({'Accuracy score ':accuracy_score(lgr_pred, y_test),\n",
    "                 'Training accuracy score ':fit_and_predict(train,y_train, train, y_train)})\n",
    "\n",
    "\n",
    "adf=df[:nrec]\n",
    "dropCol=[u'datetime','index', u'id', u'lat', u'long', u'loc', u'timeDelays','wd','ctime']\n",
    "acc_logit=wrap_prediction(adf,'wd_fac',dropCol)\n",
    "\n",
    "print 'Logistic Regression:'\n",
    "for acc_t,acc in acc_logit.iteritems():\n",
    "    print '{0}:{1}'.format(acc_t,acc) "
   ]
  },
  {
   "cell_type": "markdown",
   "metadata": {},
   "source": [
    "Xgboost (39.9%) performs twice as much better than Logistic regression (20.7%)"
   ]
  },
  {
   "cell_type": "markdown",
   "metadata": {},
   "source": [
    "#### Reference:\n",
    "1. T. Chen and Tong He. xgboost: eXtreme Gradient Boosting. R package version 0.4-2 (2015).\n",
    "2. E. Cho, S. A. Myers, J. Leskovec. Friendship and Mobility: Friendship and Mobility: User Movement in Location-Based Social Networks ACM SIGKDD International Conference on Knowledge Discovery and Data Mining (KDD), 2011.\n",
    "3. Xgboost Installation: http://stackoverflow.com/questions/33749735/how-to-install-xgboost-package-in-python-windows-platform\n",
    "4. Gowalla preprocessed dataset: https://drive.google.com/drive/folders/0B28H8IpKzp1KdzRRdmYtYnNhNzA"
   ]
  }
 ],
 "metadata": {
  "kernelspec": {
   "display_name": "Python 2",
   "language": "python",
   "name": "python2"
  },
  "language_info": {
   "codemirror_mode": {
    "name": "ipython",
    "version": 2
   },
   "file_extension": ".py",
   "mimetype": "text/x-python",
   "name": "python",
   "nbconvert_exporter": "python",
   "pygments_lexer": "ipython2",
   "version": "2.7.11"
  }
 },
 "nbformat": 4,
 "nbformat_minor": 0
}
